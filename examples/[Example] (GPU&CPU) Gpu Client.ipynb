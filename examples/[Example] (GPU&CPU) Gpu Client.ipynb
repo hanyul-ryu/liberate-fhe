{
 "cells": [
  {
   "cell_type": "markdown",
   "id": "740ef9c0-f708-490f-9a4c-d0009dc0bf69",
   "metadata": {},
   "source": [
    "# Check GPU devices"
   ]
  },
  {
   "cell_type": "code",
   "execution_count": 1,
   "id": "2ca08f58-0574-42a4-bc37-c962fa23578d",
   "metadata": {
    "execution": {
     "iopub.execute_input": "2024-09-29T07:41:34.684479Z",
     "iopub.status.busy": "2024-09-29T07:41:34.683794Z",
     "iopub.status.idle": "2024-09-29T07:41:37.028443Z",
     "shell.execute_reply": "2024-09-29T07:41:37.027261Z",
     "shell.execute_reply.started": "2024-09-29T07:41:34.684427Z"
    }
   },
   "outputs": [
    {
     "name": "stdout",
     "output_type": "stream",
     "text": [
      "CUDA available: True\n"
     ]
    }
   ],
   "source": [
    "import torch\n",
    "import os\n",
    "\n",
    "# os.environ[\"CUDA_VISIBLE_DEVICES\"] = \"-1\" \n",
    "print(\"CUDA available:\", torch.cuda.is_available())"
   ]
  },
  {
   "cell_type": "markdown",
   "id": "959f9b12-b2eb-4ad2-b505-f47d205a4fe4",
   "metadata": {},
   "source": [
    "# python `import`s"
   ]
  },
  {
   "cell_type": "code",
   "execution_count": 2,
   "id": "ddff3c30-946b-43bb-8486-fe939cc47bf3",
   "metadata": {
    "execution": {
     "iopub.execute_input": "2024-09-29T07:41:37.029886Z",
     "iopub.status.busy": "2024-09-29T07:41:37.029607Z",
     "iopub.status.idle": "2024-09-29T07:41:37.635149Z",
     "shell.execute_reply": "2024-09-29T07:41:37.634350Z",
     "shell.execute_reply.started": "2024-09-29T07:41:37.029862Z"
    }
   },
   "outputs": [
    {
     "name": "stdout",
     "output_type": "stream",
     "text": [
      "#######################\n",
      ">>>> Using GPU backend\n",
      "#######################\n"
     ]
    }
   ],
   "source": [
    "import numpy as np\n",
    "from pprint import pprint\n",
    "from liberate import fhe"
   ]
  },
  {
   "cell_type": "markdown",
   "id": "c1af6fca-a596-4f45-ba55-3320b2ebf270",
   "metadata": {},
   "source": [
    "# Generate params"
   ]
  },
  {
   "cell_type": "code",
   "execution_count": 3,
   "id": "fa614975-b0f3-4f35-a6f9-fee96c221601",
   "metadata": {
    "execution": {
     "iopub.execute_input": "2024-09-29T07:41:37.636713Z",
     "iopub.status.busy": "2024-09-29T07:41:37.636137Z",
     "iopub.status.idle": "2024-09-29T07:41:37.640447Z",
     "shell.execute_reply": "2024-09-29T07:41:37.639825Z",
     "shell.execute_reply.started": "2024-09-29T07:41:37.636686Z"
    }
   },
   "outputs": [
    {
     "name": "stdout",
     "output_type": "stream",
     "text": [
      "{'devices': [0],\n",
      " 'logN': 16,\n",
      " 'num_scales': None,\n",
      " 'num_special_primes': 4,\n",
      " 'scale_bits': 40}\n"
     ]
    }
   ],
   "source": [
    "params = fhe.presets.params[\"gold\"]\n",
    "params[\"devices\"] = [0]\n",
    "pprint(params)"
   ]
  },
  {
   "cell_type": "markdown",
   "id": "65088caa-9277-4ad6-a7b6-11cc26c77e2e",
   "metadata": {},
   "source": [
    "# Generate CkksEngine"
   ]
  },
  {
   "cell_type": "code",
   "execution_count": 4,
   "id": "ae09e982-0e7b-4b5d-8a45-d7ae120454da",
   "metadata": {
    "execution": {
     "iopub.execute_input": "2024-09-29T07:41:37.641692Z",
     "iopub.status.busy": "2024-09-29T07:41:37.641242Z",
     "iopub.status.idle": "2024-09-29T07:41:39.459771Z",
     "shell.execute_reply": "2024-09-29T07:41:39.459089Z",
     "shell.execute_reply.started": "2024-09-29T07:41:37.641668Z"
    }
   },
   "outputs": [
    {
     "name": "stdout",
     "output_type": "stream",
     "text": [
      "[2024-09-29 16:41:37.777031] I have received the context:\n",
      "\n",
      "\n",
      "I have received inputs:\n",
      "        buffer_bit_length\t\t= 62\n",
      "        scale_bits\t\t\t= 40\n",
      "        logN\t\t\t\t= 16\n",
      "        N\t\t\t\t= 65,536\n",
      "        Number of special primes\t= 4\n",
      "        Number of scales\t\t= 34\n",
      "        Cache folder\t\t\t= '/home/test00/.pyenv/versions/LG_gpu/lib/python3.10/site-packages/liberate/gpu/fhe/cache/resources'\n",
      "        Security bits\t\t\t= 128\n",
      "        Quantum security model\t\t= post_quantum\n",
      "        Security sampling distribution\t= uniform\n",
      "        Number of message bits\t\t= 60\n",
      "        In total I will be using '1,660' bits out of available maximum '1,661' bits.\n",
      "        And is it secured?\t\t= True\n",
      "My RNS primes are [1099510054913, 1099515691009, 1099507695617, 1099516870657, 1099506515969, 1099521458177, 1099503894529, 1099522375681, 1099490000897, 1099523555329, 1099489607681, 1099525128193, 1099486855169, 1099526176769, 1099484889089, 1099529060353, 1099480956929, 1099535220737, 1099469684737, 1099536138241, 1099468767233, 1099537580033, 1099461820417, 1099538104321, 1099457495041, 1099540725761, 1099455004673, 1099540856833, 1099454218241, 1099591974913, 1099453431809, 1099629723649, 1099451465729, 1099630510081, 1152921504606584833, 1152921504598720513, 1152921504597016577, 1152921504595968001, 1152921504592822273].\n",
      "[2024-09-29 16:41:37.777245] Requested devices for computation are [0].\n",
      "[2024-09-29 16:41:37.780179] I have generated a partitioning scheme.\n",
      "[2024-09-29 16:41:37.780199] I have in total 35 levels available.\n",
      "[2024-09-29 16:41:37.780210] I have 35 ordinary primes.\n",
      "[2024-09-29 16:41:37.780220] I have 4 special primes.\n",
      "[2024-09-29 16:41:39.284542] I prepared ntt parameters.\n",
      "[2024-09-29 16:41:39.284700] ntt initialization took 1.51 seconds.\n"
     ]
    }
   ],
   "source": [
    "engine = fhe.CkksEngine(**params, verbose=True)"
   ]
  },
  {
   "cell_type": "markdown",
   "id": "721ca105-28c6-41a7-baa7-192c565b33e5",
   "metadata": {},
   "source": [
    "# Generate GPU Keys"
   ]
  },
  {
   "cell_type": "code",
   "execution_count": 5,
   "id": "6c8b4062-a247-448b-baee-b731d2733094",
   "metadata": {
    "execution": {
     "iopub.execute_input": "2024-09-29T07:41:39.460921Z",
     "iopub.status.busy": "2024-09-29T07:41:39.460668Z",
     "iopub.status.idle": "2024-09-29T07:41:40.559036Z",
     "shell.execute_reply": "2024-09-29T07:41:40.558136Z",
     "shell.execute_reply.started": "2024-09-29T07:41:39.460895Z"
    }
   },
   "outputs": [],
   "source": [
    "sk = engine.create_secret_key()\n",
    "pk = engine.create_public_key(sk)\n",
    "evk = engine.create_evk(sk)\n",
    "galk = engine.create_galois_key(sk)"
   ]
  },
  {
   "cell_type": "markdown",
   "id": "8d6e34af-97e6-43e5-ab48-0352cbb9f3c1",
   "metadata": {},
   "source": [
    "# Save GPU Keys"
   ]
  },
  {
   "cell_type": "code",
   "execution_count": 6,
   "id": "79b99831-71cd-4ed2-b9a1-5c768f90c2ad",
   "metadata": {
    "execution": {
     "iopub.execute_input": "2024-09-29T07:41:40.561467Z",
     "iopub.status.busy": "2024-09-29T07:41:40.561187Z",
     "iopub.status.idle": "2024-09-29T07:42:16.210465Z",
     "shell.execute_reply": "2024-09-29T07:42:16.208547Z",
     "shell.execute_reply.started": "2024-09-29T07:41:40.561442Z"
    }
   },
   "outputs": [],
   "source": [
    "engine.save(sk, \"sk_gpu.pkl\")\n",
    "engine.save(pk, \"pk_gpu.pkl\")\n",
    "engine.save(evk, \"evk_gpu.pkl\")\n",
    "engine.save(galk, \"galk_gpu.pkl\")"
   ]
  },
  {
   "cell_type": "markdown",
   "id": "3a1e6221-c0e0-48aa-a0df-fc6b33a643ae",
   "metadata": {},
   "source": [
    "# Load CPU Keys"
   ]
  },
  {
   "cell_type": "code",
   "execution_count": 7,
   "id": "46026d7a-3668-4a52-b6c3-d0b73fc12ccc",
   "metadata": {
    "execution": {
     "iopub.execute_input": "2024-09-29T07:42:16.213235Z",
     "iopub.status.busy": "2024-09-29T07:42:16.212747Z",
     "iopub.status.idle": "2024-09-29T07:42:24.309498Z",
     "shell.execute_reply": "2024-09-29T07:42:24.308690Z",
     "shell.execute_reply.started": "2024-09-29T07:42:16.213183Z"
    }
   },
   "outputs": [],
   "source": [
    "sk_cpu = engine.load(\"sk_cpu.pkl\")\n",
    "pk_cpu = engine.load(\"pk_cpu.pkl\")\n",
    "evk_cpu = engine.load(\"evk_cpu.pkl\")\n",
    "galk_cpu = engine.load(\"galk_cpu.pkl\")"
   ]
  },
  {
   "cell_type": "markdown",
   "id": "05b4b0ea-db74-4f41-be6f-349452d764a5",
   "metadata": {},
   "source": [
    "# Test Encorypt with CPU Keys"
   ]
  },
  {
   "cell_type": "code",
   "execution_count": 8,
   "id": "4e1a6178-21ed-439d-800e-8733391d3f1c",
   "metadata": {
    "execution": {
     "iopub.execute_input": "2024-09-29T07:42:24.310744Z",
     "iopub.status.busy": "2024-09-29T07:42:24.310455Z",
     "iopub.status.idle": "2024-09-29T07:42:24.952265Z",
     "shell.execute_reply": "2024-09-29T07:42:24.951262Z",
     "shell.execute_reply.started": "2024-09-29T07:42:24.310721Z"
    }
   },
   "outputs": [
    {
     "name": "stdout",
     "output_type": "stream",
     "text": [
      "1.0000000000605207\n"
     ]
    }
   ],
   "source": [
    "m = np.random.uniform(-1, 1, size=engine.num_slots)\n",
    "ct = engine.encorypt(m, pk_cpu)\n",
    "m_ = engine.decrode(ct, sk_cpu)\n",
    "\n",
    "print((m_/m).mean().real)"
   ]
  },
  {
   "cell_type": "markdown",
   "id": "ca13afdd-672e-4356-afdf-24e18459d876",
   "metadata": {},
   "source": [
    "# Test Mult with CPU Keys"
   ]
  },
  {
   "cell_type": "code",
   "execution_count": 9,
   "id": "f9ea4d86-5335-41e4-877a-623e6f93cb20",
   "metadata": {
    "execution": {
     "iopub.execute_input": "2024-09-29T07:42:24.953510Z",
     "iopub.status.busy": "2024-09-29T07:42:24.953303Z",
     "iopub.status.idle": "2024-09-29T07:42:25.430246Z",
     "shell.execute_reply": "2024-09-29T07:42:25.429446Z",
     "shell.execute_reply.started": "2024-09-29T07:42:24.953488Z"
    }
   },
   "outputs": [
    {
     "name": "stdout",
     "output_type": "stream",
     "text": [
      "1.0000005915746923\n"
     ]
    }
   ],
   "source": [
    "m = np.random.uniform(-1, 1, size=engine.num_slots)\n",
    "ct = engine.encorypt(m, pk_cpu)\n",
    "\n",
    "ct_mult = engine.mult(ct, ct, evk_cpu)\n",
    "\n",
    "m_mult_ = engine.decrode(ct_mult, sk_cpu)\n",
    "\n",
    "print((m_mult_/(m*m)).mean().real)"
   ]
  },
  {
   "cell_type": "markdown",
   "id": "2eb02043-fc0b-48f7-9c7b-10829da35a00",
   "metadata": {},
   "source": [
    "# Test rotate with CPU Keys"
   ]
  },
  {
   "cell_type": "code",
   "execution_count": 10,
   "id": "c40eeb2a-28b0-4c30-a36c-fd5461e83f28",
   "metadata": {
    "execution": {
     "iopub.execute_input": "2024-09-29T07:42:25.431391Z",
     "iopub.status.busy": "2024-09-29T07:42:25.431183Z",
     "iopub.status.idle": "2024-09-29T07:42:25.542544Z",
     "shell.execute_reply": "2024-09-29T07:42:25.541860Z",
     "shell.execute_reply.started": "2024-09-29T07:42:25.431368Z"
    }
   },
   "outputs": [
    {
     "name": "stdout",
     "output_type": "stream",
     "text": [
      "1.0000000000592717\n"
     ]
    }
   ],
   "source": [
    "m = np.random.uniform(-1, 1, size=engine.num_slots)\n",
    "ct = engine.encorypt(m, pk_cpu)\n",
    "\n",
    "idx = np.random.randint(-2**15, 2**15)\n",
    "ct_galk = engine.rotate_galois(ct, gk=galk_cpu, delta=idx)\n",
    "\n",
    "m_galk_ = engine.decrode(ct_galk, sk_cpu)\n",
    "\n",
    "print((m_galk_/np.roll(m, idx)).mean().real)"
   ]
  },
  {
   "cell_type": "code",
   "execution_count": null,
   "id": "62347aad-f751-490b-80e8-6a110690a18d",
   "metadata": {},
   "outputs": [],
   "source": []
  },
  {
   "cell_type": "code",
   "execution_count": null,
   "id": "9cc5b0e4-7649-4fce-9f08-2f2ab42ca087",
   "metadata": {},
   "outputs": [],
   "source": []
  },
  {
   "cell_type": "code",
   "execution_count": null,
   "id": "e165d3eb-b081-48c7-85b9-b2d1b661d258",
   "metadata": {},
   "outputs": [],
   "source": []
  },
  {
   "cell_type": "code",
   "execution_count": null,
   "id": "88a0453e-1547-4fbd-a885-e82677c658da",
   "metadata": {},
   "outputs": [],
   "source": []
  },
  {
   "cell_type": "code",
   "execution_count": null,
   "id": "7c53bb5b-1419-4d68-8362-489940a28b9a",
   "metadata": {},
   "outputs": [],
   "source": []
  },
  {
   "cell_type": "code",
   "execution_count": null,
   "id": "6b534619-5125-4bd2-9e89-482379f77eb3",
   "metadata": {},
   "outputs": [],
   "source": []
  },
  {
   "cell_type": "code",
   "execution_count": null,
   "id": "6f9fc1cb-67ab-4df8-98e9-adfd9cd6b6b1",
   "metadata": {},
   "outputs": [],
   "source": []
  }
 ],
 "metadata": {
  "kernelspec": {
   "display_name": "LG_gpu",
   "language": "python",
   "name": "lg_gpu"
  },
  "language_info": {
   "codemirror_mode": {
    "name": "ipython",
    "version": 3
   },
   "file_extension": ".py",
   "mimetype": "text/x-python",
   "name": "python",
   "nbconvert_exporter": "python",
   "pygments_lexer": "ipython3",
   "version": "3.10.13"
  }
 },
 "nbformat": 4,
 "nbformat_minor": 5
}
