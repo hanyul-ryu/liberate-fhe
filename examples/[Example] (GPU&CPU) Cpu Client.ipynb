{
 "cells": [
  {
   "cell_type": "markdown",
   "id": "decd9cde-e340-43dc-a8cc-f16ca8f79ee7",
   "metadata": {},
   "source": [
    "# Check GPU devices"
   ]
  },
  {
   "cell_type": "code",
   "execution_count": 1,
   "id": "a30bcc5b-c18d-4a76-9b59-c6faf9129687",
   "metadata": {
    "execution": {
     "iopub.execute_input": "2024-09-29T07:27:15.624296Z",
     "iopub.status.busy": "2024-09-29T07:27:15.623749Z",
     "iopub.status.idle": "2024-09-29T07:27:17.939047Z",
     "shell.execute_reply": "2024-09-29T07:27:17.938090Z",
     "shell.execute_reply.started": "2024-09-29T07:27:15.624259Z"
    }
   },
   "outputs": [
    {
     "name": "stdout",
     "output_type": "stream",
     "text": [
      "CUDA available: False\n"
     ]
    }
   ],
   "source": [
    "import torch\n",
    "\n",
    "import os\n",
    "os.environ[\"CUDA_VISIBLE_DEVICES\"] = \"\"\n",
    "print(\"CUDA available:\", torch.cuda.is_available())"
   ]
  },
  {
   "cell_type": "markdown",
   "id": "ab72e8a4-6c3f-46bc-8c85-ec00092766d5",
   "metadata": {},
   "source": [
    "# python `import`s"
   ]
  },
  {
   "cell_type": "code",
   "execution_count": 2,
   "id": "ddff3c30-946b-43bb-8486-fe939cc47bf3",
   "metadata": {
    "execution": {
     "iopub.execute_input": "2024-09-29T07:27:17.940260Z",
     "iopub.status.busy": "2024-09-29T07:27:17.939802Z",
     "iopub.status.idle": "2024-09-29T07:27:18.118102Z",
     "shell.execute_reply": "2024-09-29T07:27:18.117531Z",
     "shell.execute_reply.started": "2024-09-29T07:27:17.940236Z"
    }
   },
   "outputs": [
    {
     "name": "stdout",
     "output_type": "stream",
     "text": [
      "#######################\n",
      ">>>> Using CPU backend\n",
      "#######################\n"
     ]
    }
   ],
   "source": [
    "import numpy as np\n",
    "from pprint import pprint\n",
    "from liberate import fhe\n"
   ]
  },
  {
   "cell_type": "markdown",
   "id": "3edfbb1b-e90d-4194-a6aa-1fa938ae4475",
   "metadata": {
    "execution": {
     "iopub.execute_input": "2024-09-29T07:26:05.615937Z",
     "iopub.status.busy": "2024-09-29T07:26:05.615313Z",
     "iopub.status.idle": "2024-09-29T07:26:05.621475Z",
     "shell.execute_reply": "2024-09-29T07:26:05.620234Z",
     "shell.execute_reply.started": "2024-09-29T07:26:05.615886Z"
    }
   },
   "source": [
    "# Generate params"
   ]
  },
  {
   "cell_type": "code",
   "execution_count": 3,
   "id": "fa614975-b0f3-4f35-a6f9-fee96c221601",
   "metadata": {
    "execution": {
     "iopub.execute_input": "2024-09-29T07:27:18.119063Z",
     "iopub.status.busy": "2024-09-29T07:27:18.118758Z",
     "iopub.status.idle": "2024-09-29T07:27:18.122347Z",
     "shell.execute_reply": "2024-09-29T07:27:18.121876Z",
     "shell.execute_reply.started": "2024-09-29T07:27:18.119039Z"
    }
   },
   "outputs": [
    {
     "name": "stdout",
     "output_type": "stream",
     "text": [
      "{'devices': ['cpu'],\n",
      " 'logN': 15,\n",
      " 'num_scales': None,\n",
      " 'num_special_primes': 2,\n",
      " 'scale_bits': 40}\n"
     ]
    }
   ],
   "source": [
    "params = fhe.presets.params[\"silver\"]\n",
    "\n",
    "pprint(params)"
   ]
  },
  {
   "cell_type": "markdown",
   "id": "a7fc9a8d-f6fc-4de2-be9a-b2a8fec81c4c",
   "metadata": {},
   "source": [
    "# Generate ClientCkksEngine"
   ]
  },
  {
   "cell_type": "code",
   "execution_count": 4,
   "id": "ae09e982-0e7b-4b5d-8a45-d7ae120454da",
   "metadata": {
    "execution": {
     "iopub.execute_input": "2024-09-29T07:27:18.123091Z",
     "iopub.status.busy": "2024-09-29T07:27:18.122878Z",
     "iopub.status.idle": "2024-09-29T07:27:18.253399Z",
     "shell.execute_reply": "2024-09-29T07:27:18.252542Z",
     "shell.execute_reply.started": "2024-09-29T07:27:18.123069Z"
    }
   },
   "outputs": [
    {
     "name": "stdout",
     "output_type": "stream",
     "text": [
      "[2024-09-29 16:27:18.156996] I have received the context:\n",
      "\n",
      "I have received inputs:\n",
      "            buffer_bit_length\t\t= 62\n",
      "            scale_bits\t\t\t= 40\n",
      "            logN\t\t\t= 15\n",
      "            N\t\t\t\t= 32,768\n",
      "            Number of special primes\t= 2\n",
      "            Number of scales\t\t= 16\n",
      "            Cache folder\t\t\t= '/home/test00/.pyenv/versions/LG-gpu-cpu/lib/python3.10/site-packages/liberate/cpu/fhe/cache/resources'\n",
      "            Security bits\t\t\t= 128\n",
      "            Quantum security model\t\t= post_quantum\n",
      "            Security sampling distribution\t= uniform\n",
      "            Number of message bits\t\t= 60\n",
      "            In total I will be using 821 bits out of available maximum 829 bits.\n",
      "\n",
      "My RNS primes are [1099510054913, 1099515691009, 1099507695617, 1099516280833, 1099506515969, 1099520606209, 1099504549889, 1099523555329, 1099503894529, 1099527946241, 1099503370241, 1099529060353, 1099498258433, 1099531223041, 1099469684737, 1099532009473, 1152921504606584833, 1152921504598720513, 1152921504597016577].\n",
      "[2024-09-29 16:27:18.157192] Requested devices for computation are ['cpu'].\n",
      "[2024-09-29 16:27:18.158746] I have generated a partitioning scheme.\n",
      "[2024-09-29 16:27:18.158768] I have in total 17 levels available.\n",
      "[2024-09-29 16:27:18.158780] I have 17 ordinary primes.\n",
      "[2024-09-29 16:27:18.158790] I have 2 special primes.\n",
      "[2024-09-29 16:27:18.199639] I prepared ntt parameters.\n",
      "[2024-09-29 16:27:18.199720] ntt initialization took 0.04 seconds.\n"
     ]
    }
   ],
   "source": [
    "engine = fhe.ClientCkksEngine(**params, verbose=True)"
   ]
  },
  {
   "cell_type": "markdown",
   "id": "9693d578-b1de-41c4-b516-1f1c8f73e031",
   "metadata": {},
   "source": [
    "# Generate CPU Keys"
   ]
  },
  {
   "cell_type": "code",
   "execution_count": 5,
   "id": "6c8b4062-a247-448b-baee-b731d2733094",
   "metadata": {
    "execution": {
     "iopub.execute_input": "2024-09-29T07:27:18.254651Z",
     "iopub.status.busy": "2024-09-29T07:27:18.254383Z",
     "iopub.status.idle": "2024-09-29T07:27:20.419686Z",
     "shell.execute_reply": "2024-09-29T07:27:20.418922Z",
     "shell.execute_reply.started": "2024-09-29T07:27:18.254623Z"
    }
   },
   "outputs": [],
   "source": [
    "sk = engine.create_secret_key()\n",
    "pk = engine.create_public_key(sk)\n",
    "evk = engine.create_evk(sk)\n",
    "galk = engine.create_galois_key(sk)"
   ]
  },
  {
   "cell_type": "markdown",
   "id": "0dd9717b-03ac-4164-b842-3da3c534363c",
   "metadata": {},
   "source": [
    "# Save CPU Keys"
   ]
  },
  {
   "cell_type": "code",
   "execution_count": 6,
   "id": "79b99831-71cd-4ed2-b9a1-5c768f90c2ad",
   "metadata": {
    "execution": {
     "iopub.execute_input": "2024-09-29T07:27:20.421676Z",
     "iopub.status.busy": "2024-09-29T07:27:20.421392Z",
     "iopub.status.idle": "2024-09-29T07:27:27.050803Z",
     "shell.execute_reply": "2024-09-29T07:27:27.049219Z",
     "shell.execute_reply.started": "2024-09-29T07:27:20.421649Z"
    }
   },
   "outputs": [],
   "source": [
    "engine.save(sk, \"sk_cpu.pkl\")\n",
    "engine.save(pk, \"pk_cpu.pkl\")\n",
    "engine.save(evk, \"evk_cpu.pkl\")\n",
    "engine.save(galk, \"galk_cpu.pkl\")"
   ]
  },
  {
   "cell_type": "markdown",
   "id": "b3648c3f-b975-47f7-a3ca-149ae05d8668",
   "metadata": {},
   "source": [
    "# Load CPU Keys"
   ]
  },
  {
   "cell_type": "code",
   "execution_count": 7,
   "id": "9f1b1afb-9449-4ea6-8a85-c6c9043f1cb0",
   "metadata": {
    "execution": {
     "iopub.execute_input": "2024-09-29T07:27:27.052796Z",
     "iopub.status.busy": "2024-09-29T07:27:27.052356Z",
     "iopub.status.idle": "2024-09-29T07:27:27.885828Z",
     "shell.execute_reply": "2024-09-29T07:27:27.884397Z",
     "shell.execute_reply.started": "2024-09-29T07:27:27.052748Z"
    }
   },
   "outputs": [],
   "source": [
    "sk_gpu = engine.load(\"sk_gpu.pkl\")\n",
    "pk_gpu = engine.load(\"pk_gpu.pkl\")\n",
    "evk_gpu = engine.load(\"evk_gpu.pkl\")\n",
    "galk_gpu = engine.load(\"galk_gpu.pkl\")"
   ]
  },
  {
   "cell_type": "code",
   "execution_count": 8,
   "id": "a13ce993-7a21-41a0-8a15-932b7fceda84",
   "metadata": {
    "execution": {
     "iopub.execute_input": "2024-09-29T07:27:27.887431Z",
     "iopub.status.busy": "2024-09-29T07:27:27.887045Z",
     "iopub.status.idle": "2024-09-29T07:27:28.067109Z",
     "shell.execute_reply": "2024-09-29T07:27:28.066057Z",
     "shell.execute_reply.started": "2024-09-29T07:27:27.887406Z"
    }
   },
   "outputs": [
    {
     "name": "stdout",
     "output_type": "stream",
     "text": [
      "0.9999999998832354\n"
     ]
    }
   ],
   "source": [
    "m = np.random.uniform(-1, 1, size=engine.num_slots)\n",
    "ct = engine.encorypt(m, pk_gpu)\n",
    "\n",
    "m_ = engine.decrode(ct, sk_gpu)\n",
    "\n",
    "print((m_/m).mean().real)"
   ]
  },
  {
   "cell_type": "code",
   "execution_count": null,
   "id": "b78f324d-d886-422e-984e-9ea619d5c10a",
   "metadata": {},
   "outputs": [],
   "source": []
  },
  {
   "cell_type": "code",
   "execution_count": null,
   "id": "49c4b683-4d07-4be0-89d2-6074cf7739fc",
   "metadata": {},
   "outputs": [],
   "source": []
  },
  {
   "cell_type": "code",
   "execution_count": null,
   "id": "291d4654-1e92-490b-85ae-ce7a635b4044",
   "metadata": {},
   "outputs": [],
   "source": []
  },
  {
   "cell_type": "code",
   "execution_count": null,
   "id": "e2181785-3ced-4281-acca-4f43dcbb7fd1",
   "metadata": {},
   "outputs": [],
   "source": []
  },
  {
   "cell_type": "code",
   "execution_count": null,
   "id": "988343cc-725e-4a38-bcd1-65aae982fbfd",
   "metadata": {},
   "outputs": [],
   "source": []
  },
  {
   "cell_type": "code",
   "execution_count": null,
   "id": "4e1a6178-21ed-439d-800e-8733391d3f1c",
   "metadata": {},
   "outputs": [],
   "source": []
  }
 ],
 "metadata": {
  "kernelspec": {
   "display_name": "LG",
   "language": "python",
   "name": "lg"
  },
  "language_info": {
   "codemirror_mode": {
    "name": "ipython",
    "version": 3
   },
   "file_extension": ".py",
   "mimetype": "text/x-python",
   "name": "python",
   "nbconvert_exporter": "python",
   "pygments_lexer": "ipython3",
   "version": "3.10.13"
  }
 },
 "nbformat": 4,
 "nbformat_minor": 5
}
